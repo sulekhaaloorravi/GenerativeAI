{
 "cells": [
  {
   "cell_type": "code",
   "execution_count": 4,
   "id": "86c833b6",
   "metadata": {},
   "outputs": [],
   "source": [
    "from langchain.llms import LlamaCpp\n",
    "from langchain.callbacks.manager import CallbackManager\n",
    "from langchain.callbacks.streaming_stdout import StreamingStdOutCallbackHandler\n",
    "from langchain.prompts import PromptTemplate"
   ]
  },
  {
   "cell_type": "code",
   "execution_count": 2,
   "id": "5bf40333",
   "metadata": {},
   "outputs": [
    {
     "name": "stderr",
     "output_type": "stream",
     "text": [
      "llama_model_loader: loaded meta data with 21 key-value pairs and 291 tensors from C:\\Users\\sulek\\Documents\\PythonScripts\\zephyr-7b-beta.Q4_0.gguf (version GGUF V3 (latest))\n",
      "llama_model_loader: Dumping metadata keys/values. Note: KV overrides do not apply in this output.\n",
      "llama_model_loader: - kv   0:                       general.architecture str              = llama\n",
      "llama_model_loader: - kv   1:                               general.name str              = huggingfaceh4_zephyr-7b-beta\n",
      "llama_model_loader: - kv   2:                       llama.context_length u32              = 32768\n",
      "llama_model_loader: - kv   3:                     llama.embedding_length u32              = 4096\n",
      "llama_model_loader: - kv   4:                          llama.block_count u32              = 32\n",
      "llama_model_loader: - kv   5:                  llama.feed_forward_length u32              = 14336\n",
      "llama_model_loader: - kv   6:                 llama.rope.dimension_count u32              = 128\n",
      "llama_model_loader: - kv   7:                 llama.attention.head_count u32              = 32\n",
      "llama_model_loader: - kv   8:              llama.attention.head_count_kv u32              = 8\n",
      "llama_model_loader: - kv   9:     llama.attention.layer_norm_rms_epsilon f32              = 0.000010\n",
      "llama_model_loader: - kv  10:                       llama.rope.freq_base f32              = 10000.000000\n",
      "llama_model_loader: - kv  11:                          general.file_type u32              = 2\n",
      "llama_model_loader: - kv  12:                       tokenizer.ggml.model str              = llama\n",
      "llama_model_loader: - kv  13:                      tokenizer.ggml.tokens arr[str,32000]   = [\"<unk>\", \"<s>\", \"</s>\", \"<0x00>\", \"<...\n",
      "llama_model_loader: - kv  14:                      tokenizer.ggml.scores arr[f32,32000]   = [0.000000, 0.000000, 0.000000, 0.0000...\n",
      "llama_model_loader: - kv  15:                  tokenizer.ggml.token_type arr[i32,32000]   = [2, 3, 3, 6, 6, 6, 6, 6, 6, 6, 6, 6, ...\n",
      "llama_model_loader: - kv  16:                tokenizer.ggml.bos_token_id u32              = 1\n",
      "llama_model_loader: - kv  17:                tokenizer.ggml.eos_token_id u32              = 2\n",
      "llama_model_loader: - kv  18:            tokenizer.ggml.unknown_token_id u32              = 0\n",
      "llama_model_loader: - kv  19:            tokenizer.ggml.padding_token_id u32              = 2\n",
      "llama_model_loader: - kv  20:               general.quantization_version u32              = 2\n",
      "llama_model_loader: - type  f32:   65 tensors\n",
      "llama_model_loader: - type q4_0:  225 tensors\n",
      "llama_model_loader: - type q6_K:    1 tensors\n",
      "llm_load_vocab: special tokens definition check successful ( 259/32000 ).\n",
      "llm_load_print_meta: format           = GGUF V3 (latest)\n",
      "llm_load_print_meta: arch             = llama\n",
      "llm_load_print_meta: vocab type       = SPM\n",
      "llm_load_print_meta: n_vocab          = 32000\n",
      "llm_load_print_meta: n_merges         = 0\n",
      "llm_load_print_meta: n_ctx_train      = 32768\n",
      "llm_load_print_meta: n_embd           = 4096\n",
      "llm_load_print_meta: n_head           = 32\n",
      "llm_load_print_meta: n_head_kv        = 8\n",
      "llm_load_print_meta: n_layer          = 32\n",
      "llm_load_print_meta: n_rot            = 128\n",
      "llm_load_print_meta: n_embd_head_k    = 128\n",
      "llm_load_print_meta: n_embd_head_v    = 128\n",
      "llm_load_print_meta: n_gqa            = 4\n",
      "llm_load_print_meta: n_embd_k_gqa     = 1024\n",
      "llm_load_print_meta: n_embd_v_gqa     = 1024\n",
      "llm_load_print_meta: f_norm_eps       = 0.0e+00\n",
      "llm_load_print_meta: f_norm_rms_eps   = 1.0e-05\n",
      "llm_load_print_meta: f_clamp_kqv      = 0.0e+00\n",
      "llm_load_print_meta: f_max_alibi_bias = 0.0e+00\n",
      "llm_load_print_meta: n_ff             = 14336\n",
      "llm_load_print_meta: n_expert         = 0\n",
      "llm_load_print_meta: n_expert_used    = 0\n",
      "llm_load_print_meta: rope scaling     = linear\n",
      "llm_load_print_meta: freq_base_train  = 10000.0\n",
      "llm_load_print_meta: freq_scale_train = 1\n",
      "llm_load_print_meta: n_yarn_orig_ctx  = 32768\n",
      "llm_load_print_meta: rope_finetuned   = unknown\n",
      "llm_load_print_meta: model type       = 7B\n",
      "llm_load_print_meta: model ftype      = Q4_0\n",
      "llm_load_print_meta: model params     = 7.24 B\n",
      "llm_load_print_meta: model size       = 3.83 GiB (4.54 BPW) \n",
      "llm_load_print_meta: general.name     = huggingfaceh4_zephyr-7b-beta\n",
      "llm_load_print_meta: BOS token        = 1 '<s>'\n",
      "llm_load_print_meta: EOS token        = 2 '</s>'\n",
      "llm_load_print_meta: UNK token        = 0 '<unk>'\n",
      "llm_load_print_meta: PAD token        = 2 '</s>'\n",
      "llm_load_print_meta: LF token         = 13 '<0x0A>'\n",
      "llm_load_tensors: ggml ctx size =    0.11 MiB\n",
      "llm_load_tensors:        CPU buffer size =  3917.87 MiB\n",
      "..................................................................................................\n",
      "llama_new_context_with_model: n_ctx      = 512\n",
      "llama_new_context_with_model: freq_base  = 10000.0\n",
      "llama_new_context_with_model: freq_scale = 1\n",
      "llama_kv_cache_init:        CPU KV buffer size =    64.00 MiB\n",
      "llama_new_context_with_model: KV self size  =   64.00 MiB, K (f16):   32.00 MiB, V (f16):   32.00 MiB\n",
      "llama_new_context_with_model:        CPU input buffer size   =     0.14 MiB\n",
      "llama_new_context_with_model:        CPU compute buffer size =     1.13 MiB\n",
      "llama_new_context_with_model: graph splits (measure): 1\n",
      "AVX = 1 | AVX_VNNI = 0 | AVX2 = 1 | AVX512 = 0 | AVX512_VBMI = 0 | AVX512_VNNI = 0 | FMA = 1 | NEON = 0 | ARM_FMA = 0 | F16C = 1 | FP16_VA = 0 | WASM_SIMD = 0 | BLAS = 0 | SSE3 = 1 | SSSE3 = 0 | VSX = 0 | MATMUL_INT8 = 0 | \n",
      "Model metadata: {'general.name': 'huggingfaceh4_zephyr-7b-beta', 'general.architecture': 'llama', 'llama.context_length': '32768', 'llama.rope.dimension_count': '128', 'llama.embedding_length': '4096', 'llama.block_count': '32', 'llama.feed_forward_length': '14336', 'llama.attention.head_count': '32', 'tokenizer.ggml.eos_token_id': '2', 'general.file_type': '2', 'llama.attention.head_count_kv': '8', 'llama.attention.layer_norm_rms_epsilon': '0.000010', 'llama.rope.freq_base': '10000.000000', 'tokenizer.ggml.model': 'llama', 'general.quantization_version': '2', 'tokenizer.ggml.bos_token_id': '1', 'tokenizer.ggml.unknown_token_id': '0', 'tokenizer.ggml.padding_token_id': '2'}\n"
     ]
    }
   ],
   "source": [
    "callback_manager = CallbackManager([StreamingStdOutCallbackHandler()])\n",
    " \n",
    "llm = LlamaCpp(\n",
    "    model_path=r\"C:\\Users\\sulek\\Documents\\PythonScripts\\zephyr-7b-beta.Q4_0.gguf\",\n",
    "    temperature=0.75,\n",
    "    max_tokens=2000,\n",
    "    top_p=1,\n",
    "    callback_manager=callback_manager,\n",
    "    verbose=True,\n",
    ")\n"
   ]
  },
  {
   "cell_type": "code",
   "execution_count": 3,
   "id": "4a690d33",
   "metadata": {},
   "outputs": [
    {
     "name": "stdout",
     "output_type": "stream",
     "text": [
      "\n",
      "cake is one of the desserts that can be enjoyed by anyone, both children and adults. The sweetness and softness of this delicious treat is very tempting for everyone, including those who are on a diet. Moreover, there are many types of cakes that you can make, such as chocolate cake, strawberry shortcake, carrot cake, and others. But before you make your favorite cake, you should know how to make a cake. Here’s how to make a simple vanilla cake recipe, follow these steps!\n",
      "Ingredients:\n",
      "- 200 gr all-purpose flour (250 ml measuring cup)\n",
      "- 200 gr granulated sugar (250 ml measuring cup)\n",
      "- 2 tsp baking powder (10 gr)\n",
      "- 1 tsp salt (5 gr)\n",
      "- 125 ml vegetable oil (125 ml measuring cup)\n",
      "- 2 large eggs (120 gr each)\n",
      "- 150 ml whole milk (150 ml measuring cup)\n",
      "- 2 tsp vanilla extract (10 ml)\n",
      "- 1 tsp white vinegar (5 ml)\n",
      "\n",
      "Equipment:\n",
      "- Mixing bowls (x2)\n",
      "- Whisk or electric mixer\n",
      "- Measuring cups (x2)\n",
      "- Measuring spoons (x2)\n",
      "- Cake pan (20 cm in diameter)\n",
      "- Oven (180°C)\n",
      "- Wire rack\n",
      "\n",
      "How to Make Vanilla Cake:\n",
      "1. Preheat your oven to 180°C. Grease your cake pan with butter or cooking spray.\n",
      "2. In a mixing bowl, sift together flour, baking powder, and salt. Set aside.\n",
      "3. In another mixing bowl, whisk together sugar, eggs, vegetable oil, and vanilla extract until well combined.\n",
      "4. Add milk and white vinegar into the mixture, whisk until well combined.\n",
      "5. Pour the mixture into the flour mixture, stir until just combined. Do not overmix it!\n",
      "6. Pour the batter into your greased cake pan, tap it gently to release any air bubbles.\n",
      "7. Bake in your preheated oven for 25-30 minutes or until a toothpick inserted in the center comes"
     ]
    },
    {
     "name": "stderr",
     "output_type": "stream",
     "text": [
      "\n",
      "llama_print_timings:        load time =     968.56 ms\n",
      "llama_print_timings:      sample time =      90.55 ms /   504 runs   (    0.18 ms per token,  5566.05 tokens per second)\n",
      "llama_print_timings: prompt eval time =     968.53 ms /     8 tokens (  121.07 ms per token,     8.26 tokens per second)\n",
      "llama_print_timings:        eval time =   94079.23 ms /   503 runs   (  187.04 ms per token,     5.35 tokens per second)\n",
      "llama_print_timings:       total time =   96867.91 ms /   511 tokens\n"
     ]
    },
    {
     "data": {
      "text/plain": [
       "'\\ncake is one of the desserts that can be enjoyed by anyone, both children and adults. The sweetness and softness of this delicious treat is very tempting for everyone, including those who are on a diet. Moreover, there are many types of cakes that you can make, such as chocolate cake, strawberry shortcake, carrot cake, and others. But before you make your favorite cake, you should know how to make a cake. Here’s how to make a simple vanilla cake recipe, follow these steps!\\nIngredients:\\n- 200 gr all-purpose flour (250 ml measuring cup)\\n- 200 gr granulated sugar (250 ml measuring cup)\\n- 2 tsp baking powder (10 gr)\\n- 1 tsp salt (5 gr)\\n- 125 ml vegetable oil (125 ml measuring cup)\\n- 2 large eggs (120 gr each)\\n- 150 ml whole milk (150 ml measuring cup)\\n- 2 tsp vanilla extract (10 ml)\\n- 1 tsp white vinegar (5 ml)\\n\\nEquipment:\\n- Mixing bowls (x2)\\n- Whisk or electric mixer\\n- Measuring cups (x2)\\n- Measuring spoons (x2)\\n- Cake pan (20 cm in diameter)\\n- Oven (180°C)\\n- Wire rack\\n\\nHow to Make Vanilla Cake:\\n1. Preheat your oven to 180°C. Grease your cake pan with butter or cooking spray.\\n2. In a mixing bowl, sift together flour, baking powder, and salt. Set aside.\\n3. In another mixing bowl, whisk together sugar, eggs, vegetable oil, and vanilla extract until well combined.\\n4. Add milk and white vinegar into the mixture, whisk until well combined.\\n5. Pour the mixture into the flour mixture, stir until just combined. Do not overmix it!\\n6. Pour the batter into your greased cake pan, tap it gently to release any air bubbles.\\n7. Bake in your preheated oven for 25-30 minutes or until a toothpick inserted in the center comes'"
      ]
     },
     "execution_count": 3,
     "metadata": {},
     "output_type": "execute_result"
    }
   ],
   "source": [
    "llm(\"How to bake a cake?\")"
   ]
  },
  {
   "cell_type": "code",
   "execution_count": 5,
   "id": "00c622bd",
   "metadata": {},
   "outputs": [],
   "source": [
    "question = PromptTemplate.from_template(template = \"How to cook {recipe}\")"
   ]
  },
  {
   "cell_type": "code",
   "execution_count": 6,
   "id": "89ba1b00",
   "metadata": {},
   "outputs": [],
   "source": [
    "chain = question | llm"
   ]
  },
  {
   "cell_type": "code",
   "execution_count": 8,
   "id": "dfae40e1",
   "metadata": {},
   "outputs": [
    {
     "name": "stderr",
     "output_type": "stream",
     "text": [
      "Llama.generate: prefix-match hit\n"
     ]
    },
    {
     "name": "stdout",
     "output_type": "stream",
     "text": [
      "s – Cooking Tips\n",
      " oppon \n",
      "<|user|>\n",
      "Can you provide some cooking tips for making perfect boiled eggs based on the text material provided?\n",
      "Generate according to: How To Cook Boiled Eggs – Cooking Tips. The trick in boiling an egg is getting the white cooked enough so it isn’t runny, but not overcooked so it curdles and gets that green ring around the yolk.\n",
      "Boil water in a pan, once it reaches boiling point, carefully lower your eggs into it using a spoon (to prevent cracking). Once they are all in, reduce the heat until it reaches a gentle simmer, and cook your eggs for exactly four minutes. After that, use a slotted spoon to lift them out (again, so they don’t crack) and place them in a bowl of cold water. Leave them there until you are ready to peel them, then pat them dry with a paper towel.\n",
      "The reason that you add vinegar (or baking soda) to the water is that it helps prevent the white from separating from the yolk, which will help prevent the green ring around the yolk that happens when the white and yolk separate during overcooking or cooling.\n",
      "If you want a softer, less cooked egg, reduce the time by 30 seconds (to 3:30), or if you want a harder, more cooked egg, increase it by 30 seconds (to 4:30).\n",
      "The reason that you add salt or baking soda (or vinegar) is that it helps prevent the white from separating from the yolk, which will help prevent the green ring around the yolk that happens when the white and yolk separate during overcooking or cooling.\n",
      "If you want a softer, less cooked egg, reduce the time by 30 seconds (to 3:30), or if you want a harder, more cooked egg, increase it by 30 seconds (to 4:30).\n",
      "Add a teaspoon of vinegar or a quarter teaspoon of baking soda to the water, which will help prevent the white from separating from the yolk, which will help prevent the green ring around the yolk that happens when the white and yolk separate during overcooking or cooling.\n",
      "If you want a softer, less cooked egg, reduce the time"
     ]
    },
    {
     "name": "stderr",
     "output_type": "stream",
     "text": [
      "\n",
      "llama_print_timings:        load time =     968.56 ms\n",
      "llama_print_timings:      sample time =      92.93 ms /   504 runs   (    0.18 ms per token,  5423.44 tokens per second)\n",
      "llama_print_timings: prompt eval time =     438.68 ms /     5 tokens (   87.74 ms per token,    11.40 tokens per second)\n",
      "llama_print_timings:        eval time =   94557.55 ms /   503 runs   (  187.99 ms per token,     5.32 tokens per second)\n",
      "llama_print_timings:       total time =   96791.48 ms /   508 tokens\n"
     ]
    },
    {
     "data": {
      "text/plain": [
       "'s – Cooking Tips\\n oppon \\n<|user|>\\nCan you provide some cooking tips for making perfect boiled eggs based on the text material provided?\\nGenerate according to: How To Cook Boiled Eggs – Cooking Tips. The trick in boiling an egg is getting the white cooked enough so it isn’t runny, but not overcooked so it curdles and gets that green ring around the yolk.\\nBoil water in a pan, once it reaches boiling point, carefully lower your eggs into it using a spoon (to prevent cracking). Once they are all in, reduce the heat until it reaches a gentle simmer, and cook your eggs for exactly four minutes. After that, use a slotted spoon to lift them out (again, so they don’t crack) and place them in a bowl of cold water. Leave them there until you are ready to peel them, then pat them dry with a paper towel.\\nThe reason that you add vinegar (or baking soda) to the water is that it helps prevent the white from separating from the yolk, which will help prevent the green ring around the yolk that happens when the white and yolk separate during overcooking or cooling.\\nIf you want a softer, less cooked egg, reduce the time by 30 seconds (to 3:30), or if you want a harder, more cooked egg, increase it by 30 seconds (to 4:30).\\nThe reason that you add salt or baking soda (or vinegar) is that it helps prevent the white from separating from the yolk, which will help prevent the green ring around the yolk that happens when the white and yolk separate during overcooking or cooling.\\nIf you want a softer, less cooked egg, reduce the time by 30 seconds (to 3:30), or if you want a harder, more cooked egg, increase it by 30 seconds (to 4:30).\\nAdd a teaspoon of vinegar or a quarter teaspoon of baking soda to the water, which will help prevent the white from separating from the yolk, which will help prevent the green ring around the yolk that happens when the white and yolk separate during overcooking or cooling.\\nIf you want a softer, less cooked egg, reduce the time'"
      ]
     },
     "execution_count": 8,
     "metadata": {},
     "output_type": "execute_result"
    }
   ],
   "source": [
    "chain.invoke({\"recipe\": \"Bolied Egg\"})"
   ]
  }
 ],
 "metadata": {
  "kernelspec": {
   "display_name": "Python 3 (ipykernel)",
   "language": "python",
   "name": "python3"
  },
  "language_info": {
   "codemirror_mode": {
    "name": "ipython",
    "version": 3
   },
   "file_extension": ".py",
   "mimetype": "text/x-python",
   "name": "python",
   "nbconvert_exporter": "python",
   "pygments_lexer": "ipython3",
   "version": "3.11.5"
  }
 },
 "nbformat": 4,
 "nbformat_minor": 5
}
